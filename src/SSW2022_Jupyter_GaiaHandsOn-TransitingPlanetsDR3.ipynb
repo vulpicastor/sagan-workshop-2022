{
 "cells": [
  {
   "cell_type": "markdown",
   "metadata": {
    "id": "pVoH5vL0RkNc"
   },
   "source": [
    "# Tutorial: candidate transiting exoplanets in Gaia DR3\n",
    "\n",
    "## Author: Anthony Brown (Leiden Observatory)\n",
    "\n",
    "In this notebook we will exercise the extraction of light curves of candidate exoplanet transits from the Gaia DR3 archive.\n",
    "\n",
    "__To be finalized once the corrected vari_planetary_transits table is available from the Gaia web pages.__"
   ]
  },
  {
   "cell_type": "markdown",
   "metadata": {
    "id": "xjI1DBxaPue7"
   },
   "source": [
    "## First install required Python packages\n",
    "\n",
    "We need the `astroquery` package to access the tools for programmatic access to the Gaia archive. For more information and examples see:\n",
    "* [astroquery documentation](https://astroquery.readthedocs.io/en/latest/gaia/gaia.html)\n",
    "* [Gaia archive python tutorial](https://www.cosmos.esa.int/web/gaia-users/archive/use-cases#ClusterAnalysisPythonTutorial)\n"
   ]
  },
  {
   "cell_type": "markdown",
   "metadata": {
    "id": "wSH3yGtfUB90"
   },
   "source": [
    "## Python imports"
   ]
  },
  {
   "cell_type": "code",
   "execution_count": null,
   "metadata": {
    "id": "-pORBILzQnCY"
   },
   "outputs": [],
   "source": [
    "import numpy as np\n",
    "import matplotlib.pyplot as plt\n",
    "from matplotlib import rc\n",
    "from matplotlib.gridspec import GridSpec\n",
    "\n",
    "from astroquery.gaia import Gaia\n",
    "\n",
    "from astropy.table import Table\n"
   ]
  },
  {
   "cell_type": "markdown",
   "metadata": {
    "id": "PhQ77qUEUGFb"
   },
   "source": [
    "## Matplotlib settings"
   ]
  },
  {
   "cell_type": "code",
   "execution_count": null,
   "metadata": {
    "id": "ibx7vlujj2-7"
   },
   "outputs": [],
   "source": [
    "linewidths = 2\n",
    "axislinewidths = 2\n",
    "lenticks = 6\n",
    "fontsize = 18\n",
    "\n",
    "rc('font', family='sans-serif', size=fontsize)\n",
    "rc('xtick.major', size=lenticks)\n",
    "rc('xtick.minor', size=lenticks * 2 / 3)\n",
    "rc('ytick.major', size=lenticks)\n",
    "rc('ytick.minor', size=lenticks * 2 / 3)\n",
    "rc('lines', linewidth=linewidths)\n",
    "rc('axes', linewidth=axislinewidths)"
   ]
  },
  {
   "cell_type": "markdown",
   "metadata": {
    "id": "V71RZx2E_3Ec"
   },
   "source": [
    "## Function for plotting\n",
    "\n",
    "The code below defines a function for plotting the light curves (epoch photometry) for the candidate exoplanet transits."
   ]
  },
  {
   "cell_type": "code",
   "execution_count": null,
   "metadata": {
    "id": "kBCpEpGn_2Ak"
   },
   "outputs": [],
   "source": [
    "def plot_epoch_phot(inp_table, colours  = ['C2', 'C0', 'C3'], title = 'Epoch photometry',  figsize = (15,6)):\n",
    "    \"\"\"\n",
    "    Epoch photometry plotter. 'inp_table' MUST be an Astropy-table object.\n",
    "    Code adapted from https://www.cosmos.esa.int/web/gaia-users/archive/Datalink-DR3\n",
    "    \n",
    "    Parameters\n",
    "    ----------\n",
    "\n",
    "    inp_table : Astropy table\n",
    "        Table with lightcurve data\n",
    "\n",
    "    Keywords\n",
    "    --------\n",
    "\n",
    "    colours: list of strings\n",
    "        Matplotlib colours to use for the plotting\n",
    "    title: string\n",
    "        Plot title\n",
    "    figsize: tuple of two floats\n",
    "        Size of the figure\n",
    "    \"\"\"\n",
    "    fig = plt.figure(figsize=figsize)\n",
    "    gs = GridSpec(nrows=3, ncols=1, hspace=0, figure=fig)\n",
    "    axes = []\n",
    "    for i in range(3):\n",
    "        axes.append(fig.add_subplot(gs[i,0]))\n",
    "    xlabel   = f'JD date [{inp_table[\"time\"].unit}]'\n",
    "    ylabel   = f'magnitude [{inp_table[\"mag\"].unit}]'\n",
    "    gbands   = ['G', 'BP', 'RP']\n",
    "    colours  = iter(colours)\n",
    "    source_id = inp_table['source_id'][0]\n",
    "\n",
    "    handles = []\n",
    "    labels = []\n",
    "    for band, ax in zip(gbands, axes):\n",
    "        phot_set = inp_table[inp_table['band'] == band]\n",
    "        valid = np.logical_not(np.isnan(phot_set['time']))\n",
    "        ax.plot(phot_set['time'][valid], phot_set['mag'][valid], 'o', label = band, color = next(colours))\n",
    "        ax.invert_yaxis()\n",
    "        ax.grid()\n",
    "        hs, ls = ax.get_legend_handles_labels()\n",
    "        handles.append(hs[0])\n",
    "        labels.append(ls[0])\n",
    "    axes[2].set_xlabel(xlabel)\n",
    "    axes[1].set_ylabel(ylabel)\n",
    "    axes[0].legend(handles, labels, loc='upper left', bbox_to_anchor=(1, 0.95))\n",
    "    fig.suptitle(title+f\" Gaia DR3 {source_id}\")\n",
    "    plt.show()"
   ]
  },
  {
   "cell_type": "markdown",
   "metadata": {
    "id": "aIPcCKenS3gr"
   },
   "source": [
    "# The Gaia DR3 planetary transits table\n",
    "We first read and inspect the small table with information on the candidate exoplanet transits in Gaia DR3.\n",
    "\n",
    "Download this file [VariPlanetaryTransit-INCORRECT.ecsv](https://catcopy.ipac.caltech.edu/ssw/hands-on/VariPlanetaryTransit-INCORRECT.ecsv), into the same directory as this notebook.\n",
    "\n",
    "__To be updated once the corrected table is available from the Gaia web pages.__"
   ]
  },
  {
   "cell_type": "code",
   "execution_count": null,
   "metadata": {
    "id": "1rC0yvmlUMNb"
   },
   "outputs": [],
   "source": [
    "gtable = Table.read(\"VariPlanetaryTransit-INCORRECT.ecsv\", format='ascii.ecsv')"
   ]
  },
  {
   "cell_type": "code",
   "execution_count": null,
   "metadata": {
    "id": "KQTxC05AUmwc"
   },
   "outputs": [],
   "source": [
    "print(gtable.info)\n",
    "gtable"
   ]
  },
  {
   "cell_type": "markdown",
   "metadata": {
    "id": "1xm-ph2BU9B7"
   },
   "source": [
    "We see a table with 214 entries. Detailed information on this table can be found [here](https://gea.esac.esa.int/archive/documentation/GDR3/Gaia_archive/chap_datamodel/sec_dm_variability_tables/ssec_dm_vari_planetary_transit.html)."
   ]
  },
  {
   "cell_type": "markdown",
   "metadata": {
    "id": "lyJEX6PPvhRE"
   },
   "source": [
    "## Getting the light curves\n",
    "To access the associated light curves we use the *Datalink service*. The code below is based on the [tutorial](https://www.cosmos.esa.int/web/gaia-users/archive/datalink-products) in the Gaia archive."
   ]
  },
  {
   "cell_type": "code",
   "execution_count": null,
   "metadata": {
    "id": "LclhWZKjv6F9"
   },
   "outputs": [],
   "source": [
    "retrieval_type = 'EPOCH_PHOTOMETRY'\n",
    "data_structure = 'INDIVIDUAL'\n",
    "data_release   = 'Gaia DR3'\n",
    "\n",
    "datalink  = Gaia.load_data(ids=gtable['source_id'], data_release = data_release, retrieval_type=retrieval_type, \n",
    "                           data_structure = data_structure, verbose = False, output_file = None, valid_data=False)\n",
    "dl_keys  = [inp for inp in datalink.keys()]\n",
    "dl_keys.sort()\n",
    "\n",
    "print()\n",
    "print(f'The following Datalink products have been downloaded (showing first five only):')\n",
    "for dl_key in dl_keys[0:5]:\n",
    "    print(f' * {dl_key}')"
   ]
  },
  {
   "cell_type": "markdown",
   "metadata": {
    "id": "r4HA7X9IcDK3"
   },
   "source": [
    "We now show the data available for the first confirmed exoplanet discovered by Gaia, Gaia-1b, which is Gaia DR3 3026325426682637824 (see [Panahi et al 2022](https://arxiv.org/abs/2205.10197)). We use the source ID to construct the key with which to extract the lightcurve data from the `datalink` object. The datalink entry can be turned into a regular Astropy table with the `to_table()` function call (`product.to_table()` below)."
   ]
  },
  {
   "cell_type": "code",
   "execution_count": null,
   "metadata": {
    "id": "Ie9xThgx5s-1"
   },
   "outputs": [],
   "source": [
    "source_id = 3026325426682637824 # Gaia 1-b\n",
    "dl_key   = f'EPOCH_PHOTOMETRY-Gaia DR3 {source_id}.xml'\n",
    "\n",
    "product  = datalink[dl_key][0]\n",
    "items    = [item for item in product.iter_fields_and_params()]\n",
    "\n",
    "for item in items:\n",
    "    print(item)\n",
    "\n",
    "print()\n",
    "print(f'Showing data')\n",
    "product"
   ]
  },
  {
   "cell_type": "markdown",
   "metadata": {
    "id": "lzvED0eMc6d5"
   },
   "source": [
    "Note that the lightcurve data for all three of Gaia's broad photometric bands ($G$, $G_\\mathrm{BP}$, $G_\\mathrm{RP}$) is collected together in one table. You can select the band by filtering on the `band` column in the table (as done in the plotting code defined above). Next we plot an example lightcurve."
   ]
  },
  {
   "cell_type": "code",
   "execution_count": null,
   "metadata": {
    "id": "4DchVuQd_dbl"
   },
   "outputs": [],
   "source": [
    "plot_epoch_phot(product.to_table())"
   ]
  },
  {
   "cell_type": "markdown",
   "metadata": {
    "id": "RlNf7U6BbUdx"
   },
   "source": [
    "## __QUESTION 1__\n",
    "\n",
    "The lightcurve as plotted above does not show the (candidate) exoplanet transit very well. This is better seen in a phase-folded lightcurve. \n",
    "\n",
    "Can you modify the plotting code above to plot phase-folded lightcurves?"
   ]
  },
  {
   "cell_type": "code",
   "execution_count": null,
   "metadata": {
    "id": "bCOW5OPGbsqz"
   },
   "outputs": [],
   "source": [
    "# Your modified code here"
   ]
  },
  {
   "cell_type": "code",
   "execution_count": null,
   "metadata": {
    "id": "m1Vutxm0iSUQ"
   },
   "outputs": [],
   "source": [
    "# Code to make the plot"
   ]
  },
  {
   "cell_type": "markdown",
   "metadata": {
    "id": "luXGlXuTr3un"
   },
   "source": [
    "## __Challenge for the rest of the week__\n",
    "\n",
    "1. Assuming the planet transit candidates are all indeed caused by exoplanets, calculate the radii of the planets, using the stellar radii from the Gaia archive. You can find the radii in the `gaiadr3.astrophysical_parameters` table.\n",
    "\n",
    "2. Most of the candidate exoplanet transits correspond to known planets, see https://www.cosmos.esa.int/web/gaia/exoplanets. How do your radii compare to the literature values? You can use the literature values in the NASA Exoplanet Archive.\n",
    "\n",
    "3. Given the planetary radii just calculated you can make an educated guess on their densities and calculate the masses. What does the mass distribution look like?"
   ]
  }
 ],
 "metadata": {
  "colab": {
   "collapsed_sections": [],
   "name": "SSW2022_Colab_GaiaHandsOn-TransitingPlanetsDR3.ipynb",
   "provenance": [],
   "toc_visible": true
  },
  "kernelspec": {
   "display_name": "Python 3",
   "language": "python",
   "name": "python3"
  },
  "language_info": {
   "codemirror_mode": {
    "name": "ipython",
    "version": 3
   },
   "file_extension": ".py",
   "mimetype": "text/x-python",
   "name": "python",
   "nbconvert_exporter": "python",
   "pygments_lexer": "ipython3",
   "version": "3.8.8"
  }
 },
 "nbformat": 4,
 "nbformat_minor": 1
}
