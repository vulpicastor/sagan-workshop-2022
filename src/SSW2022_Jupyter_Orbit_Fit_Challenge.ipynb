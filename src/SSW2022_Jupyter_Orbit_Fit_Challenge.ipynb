{
 "cells": [
  {
   "cell_type": "markdown",
   "id": "-fbr37q45Kah",
   "metadata": {
    "id": "-fbr37q45Kah"
   },
   "source": [
    "# SSW2022 Orbit Fit Challenge"
   ]
  },
  {
   "cell_type": "markdown",
   "id": "37b2e7b2",
   "metadata": {
    "id": "37b2e7b2"
   },
   "source": [
    "# Orbit fitting of Gaia-like observations\n",
    "\n",
    "In this hands-on activity you will learn to fit sky paths and orbits to absolute astrometry.  In the course of the activity you will:\n",
    "\n",
    "1) load synthetic Gaia-like observations; \n",
    "\n",
    "2) fit a single-star model using least-squares, and assess the goodness of fit (whether a single-star model is an acceptable fit to the data);\n",
    "\n",
    "3) add orbital motion to the single-star model and redo the fit and assess whether this is a good fit to the data;\n",
    "\n",
    "4) visualize your fit with an orbital model and the synthetic Gaia observations superposed;\n",
    "\n",
    "5) explore confidence regions on orbital parameters by computing the best $\\chi^2$ as a function of period and eccentricity; and\n",
    "\n",
    "6) assess what constraints you can place on the companion mass.\n",
    "\n",
    "There may be a number of subtleties with the interpretations of the results, subtleties that are not easily expressed with something like ${\\rm period}\\,=\\,x\\pm \\sigma_x\\,{\\rm days}$.  Keep this in mind as you think about how to interpret Gaia DR3 data, and the challenges that releasing a catalog like Gaia DR3 presents!\n",
    "\n",
    "The first few cells will import necessary packages and load some data."
   ]
  },
  {
   "cell_type": "code",
   "execution_count": null,
   "id": "5686b159",
   "metadata": {
    "id": "5686b159"
   },
   "outputs": [],
   "source": [
    "# astropy imports\n",
    "from astropy.table import QTable\n",
    "import numpy as np\n",
    "from scipy import optimize\n",
    "import matplotlib.pyplot as plt\n",
    "plt.style.use('https://catcopy.ipac.caltech.edu/ssw/hands-on/ssw.mplstyle')"
   ]
  },
  {
   "cell_type": "markdown",
   "id": "OwX06xTTH2BY",
   "metadata": {
    "id": "OwX06xTTH2BY"
   },
   "source": [
    "Two files, organized as .csv tables, are necessary for the analysis:\n",
    "\n",
    "1) the file of synthetic Gaia observations;\n",
    "\n",
    "2) the file of scanning law parameters.\n",
    "\n",
    "The default unit of the Gaia along-scan position measurements is arcsec. Some of the units of time are provided in JD, but to better handle the treatment of the relevant parameters in the fits these will be transformed in Julian years. Angles are provided by default in degrees, but must be converted to radians for any calculation involving trigonometric functions.\n",
    "\n",
    "The second file contains the list of observation times (the same as in the first file) and scanning law parameters.  You will need these to interpret the directions of the measurements given in the first file.  "
   ]
  },
  {
   "cell_type": "code",
   "execution_count": null,
   "id": "cf5d59de",
   "metadata": {
    "id": "cf5d59de"
   },
   "outputs": [],
   "source": [
    "# Read data file with synthetic Gaia observations\n",
    "v1298tau_data = QTable.read('https://catcopy.ipac.caltech.edu/ssw/hands-on/v1298tau_observations.csv')\n",
    "# Read data file with scanning law parameters (angles and parallax factors)\n",
    "gaia_scan_v1298tau = QTable.read('https://catcopy.ipac.caltech.edu/ssw/hands-on/gost_22.1.1_730490_2022-06-09-11-12-00_v1298_tau.csv')"
   ]
  },
  {
   "cell_type": "code",
   "execution_count": null,
   "id": "24ca3317",
   "metadata": {
    "id": "24ca3317"
   },
   "outputs": [],
   "source": [
    "#fill time-series variables\n",
    "juld = v1298tau_data['Time[JD]']\n",
    "wobs = v1298tau_data['w[arcsec]']\n",
    "sigw = v1298tau_data['err_w[arcsec]']\n",
    "\n",
    "ref_ep = 2457389.0 # Reference Epoch (J2016.0)\n",
    "\n",
    "#Fill scanning law parameter variables\n",
    "theta = gaia_scan_v1298tau['scanAngle[rad]']\n",
    "costheta = np.cos(theta)\n",
    "sintheta = np.sin(theta)\n",
    "parfac = gaia_scan_v1298tau['parallaxFactorAlongScan']\n",
    "\n",
    "t = (juld - ref_ep)/365.25 # in Julian years from 2016.0"
   ]
  },
  {
   "cell_type": "markdown",
   "id": "d8459293",
   "metadata": {
    "id": "d8459293"
   },
   "source": [
    "### The Best-Fit Single Star Model\n",
    "\n",
    "To compute the best-fit sky path, we will be fitting a model to the one-dimensional position measurements.  The position of the star at any given time in $x$ (i.e. right ascension) will be \n",
    "\n",
    "$x = x_0 + v_x t + \\varpi f(t)$\n",
    "\n",
    "where $v_x$ is a velocity (the proper motion in right ascension, often denoted $\\mu_{\\alpha*}$, and $f(t)$ is the changing apparent position of the star due to parallax: the larger the parallax $\\varpi$, the larger this motion.\n",
    "\n",
    "The star actually moves in two dimensions, $x$ and $y$ (or right ascension $\\alpha$ and declination $\\delta$).  Gaia measures its position in just one dimension, at an angle $\\theta$ away from the $y$ or $\\delta$ axis (east of north).  So, the position that Gaia measures is \n",
    "\n",
    "$p_{\\rm Gaia} = x \\sin \\theta + y \\cos \\theta$.\n",
    "\n",
    "The parallax factor included above is the component of parallactic motion along the scan direction.  \n",
    "\n",
    "So, the measured position by Gaia should be, for a single star (now using the standard variables $\\alpha$ and $\\delta$ instead of $x$ and $y$),\n",
    "\n",
    "$p_{\\rm Gaia} = (\\alpha_0 + \\mu_\\alpha t)\\sin \\theta + (\\delta_0 + \\mu_\\delta t)\\cos \\theta + \\varpi \\cdot {\\it pf}$\n",
    "\n",
    "where ${\\it pf}$ is the *parallax factor*.  \n",
    "\n",
    "One other important detail is the time $t$.  The baseline positions $\\alpha_0$ and $\\delta_0$ are the positions at $t=0$.  It makes more sense to measure time from a reference epoch during Gaia's observations (like taking $t=0$ at 2016.0) rather than taking $t=0$ at the year zero, extrapolating the model more than 2000 years into the past.  It actually makes it more challenging to solve numerically!  So, where I write $t$ above, I really mean the date as measured from the reference epoch of 2016.0.  This is already computed for you as the variable `t` (in units of Julian years).\n",
    "\n",
    "**With all that said**, go ahead and fit the single-star model to the data.  Compute the best-fit $\\chi^2$, with \n",
    "\n",
    "$\\chi^2 = \\sum_i (p_{\\rm measured} - p_{\\rm predicted})^2/\\sigma_i^2$\n",
    "\n",
    "where $\\sigma_i$ is the measurement uncertainty for the $i$-th measurement (`sigw`) and $p_{\\rm measured}$ is the measured position (`wobs`).  Compare your best-fit $\\chi^2$ with the degrees of freedom, i.e., the number of position measurements (48) minus the number of fitted parameters (five).  Is the single-star model a good fit to the data?"
   ]
  },
  {
   "cell_type": "code",
   "execution_count": null,
   "id": "59e38154",
   "metadata": {
    "id": "59e38154"
   },
   "outputs": [],
   "source": []
  },
  {
   "cell_type": "markdown",
   "id": "1f8d8485",
   "metadata": {
    "id": "1f8d8485"
   },
   "source": [
    "### Now we will fit an orbit plus a five-parameter sky path.\n",
    "\n",
    "This means that we need to compute an orbit!  This will involve the solution to the Kepler problem, which you can find in any celestial mechanics textbook.  We will repeat the necessary parts here so you don't have to go dig out a textbook.\n",
    "\n",
    "The first step is to derive something called the *mean anomaly*.  This is just the orbital phase, reduced to the range $[0, 2\\pi)$:\n",
    "\n",
    "$M = (2\\pi (t - t_{\\rm peri})/T)~{\\rm mod}~(2\\pi)$\n",
    "\n",
    "where mod means modulo (`%` in Python, but watch your parentheses!), $T$ is the period, and $t_{\\rm peri}$ is the time of periastron.\n",
    "\n",
    "From the mean anomaly, we compute the eccentric anomaly $E$ by solving Kepler's equation (which gives $E$ implicitly):\n",
    "\n",
    "$M = E - e \\sin E$\n",
    "\n",
    "where $e$ is the eccentricity.  The simplest way to solve this is with Newton-Raphson iteration to find the root of $M - E + e \\sin E$, using a good initial guess to help:\n",
    "\n",
    "$E_0 = M + (e\\sin M)/\\left(\\sqrt{1 - 2e\\cos M + e^2}\\right)$\n",
    "\n",
    "$E_{n + 1} = E_n - f/f' = E_n - (M - E + e \\sin E)/(e \\cos E - 1)$\n",
    "\n",
    "until convergence.  Once you have the eccentric anomaly (which requires three parameters: $e$, $T$, and $t_{\\rm peri}$), you can use the Thiele-Innes equations for the position on the sky.  These are:\n",
    "\n",
    "$X = \\cos E - e$\n",
    "\n",
    "$Y = (\\sin E)\\sqrt{1 - e^2}$\n",
    "\n",
    "$\\Delta \\alpha = BX + GY$\n",
    "\n",
    "$\\Delta \\delta = AX + FY$\n",
    "\n",
    "In the equations above, $A$, $B$, $F$, and $G$ are constants, all in units of arcseconds, and $\\Delta \\alpha$ and $\\Delta \\delta$ represent the orbital motion in right ascension and declination.\n",
    "\n",
    "**Perform a $\\chi^2$ fit to a sky path with orbital motion.  What is your best-fit $\\chi^2$, and how does it compare to the number of degrees of freedom (48 measurements minus 12 fitted parameters: 5 for the sky path and 7 for the orbit)?**\n",
    "\n",
    "**A few helpful hints:**\n",
    "\n",
    "Make sure that eccentricity $e$ stays between zero and one!  If you use `curve_fit`, the default is to give initial guesses of 1.0 for all parameters.  This is bad for eccentricity!\n",
    "\n",
    "You might have to try a number of different starting guesses for $e$, $T$, and $t_{\\rm peri}$ to find a good orbital fit.  \n",
    "\n",
    "Once you have the eccentric anomaly (which requires $e$, $T$, and $t_{\\rm peri}$), the orbital motion is linear in $B$, $G$, $A$, and $F$.  You can multiply the $\\Delta \\alpha$ and $\\Delta \\delta$ equations by $\\sin \\theta$ and $\\cos \\theta$, respectively, and then perform a linear fit for $\\alpha_0$, $\\delta_0$, $\\mu_\\alpha$, $\\mu_\\delta$, $\\varpi$, $B$, $G$, $A$, and $F$.  This would be just like the fit you did earlier for the five astrometric parameters $\\alpha_0$, $\\delta_0$, $\\mu_\\alpha$, $\\mu_\\delta$, and $\\varpi$."
   ]
  },
  {
   "cell_type": "code",
   "execution_count": null,
   "id": "286d28c0",
   "metadata": {
    "id": "286d28c0"
   },
   "outputs": [],
   "source": []
  },
  {
   "cell_type": "markdown",
   "id": "nepuordsvfVR",
   "metadata": {
    "id": "nepuordsvfVR"
   },
   "source": [
    "### Optional: plotting\n",
    "\n",
    "Plot your best-fit orbit together with the data.  To do this, you can plot your orbit using an array of times encompassing the full range of epochs observed by Gaia: plot $\\Delta \\alpha$ and $\\Delta \\delta$ using the Thiele-Innes constants.  \n",
    "\n",
    "Plotting the observed points will probably be harder than plotting your best-fit synthetic orbit.  You can then plot the observed points in the following way:\n",
    "\n",
    "Use your fitting routine to compute the residuals, ${\\rm data} - {\\rm model}$, for the observed positions `wobs`.  Then take the model positions (using only the orbital part, i.e., without the parallax and proper motion parts) and add these residuals to the model, so that you are doing something like ${\\rm data} - {\\rm model} + {\\rm model}$.  This will get you the observations.  You will have to multiply the (one-dimensional) residuals times $\\cos \\theta$ to get the declination residuals and the residuals times $\\sin \\theta$ to get the right ascension residuals.\n",
    "\n",
    "You can then plot the error bars by taking the measurement uncertainties `sigw` and connecting a line going from $(-\\sigma_w \\sin \\theta, -\\sigma_w \\cos \\theta)$ on one side to $(\\sigma_w \\sin \\theta, \\sigma_w \\cos \\theta)$ on the other side of each measured position.\n"
   ]
  },
  {
   "cell_type": "markdown",
   "id": "U83zXxwCQFKj",
   "metadata": {
    "id": "U83zXxwCQFKj"
   },
   "source": [
    "## Peculiar note about plotting:\n",
    "Find two best fit orbits by varying the starting guesses (e.g., try one with a period of 2 years and another with a period of 5 years). Plot both.\n",
    "You should notice that the $\\alpha$, $\\delta$ \"positions\" of the observations (the points with 1d error bars) actually change depending on what the best fit orbit is.\n",
    "\n",
    "Is something wrong?\n",
    "\n",
    "Answer: This is bizarre, but nothing is wrong. This is just the peculiar behavior of fitting to single dimensional observations. Gaia only observes the projection of the star's 2d position onto a 1d axis tilted at an angle $\\theta$ (the scan angle). So in a sense, all you have is a line along which the star must have existed (or a broad swath, because there is uncertainty). The line makes an angle $\\theta + 90^{\\circ}$ East of North. "
   ]
  },
  {
   "cell_type": "markdown",
   "id": "9f5ef421",
   "metadata": {
    "id": "9f5ef421"
   },
   "source": [
    "### Now we will explore confidence intervals on our parameters.\n",
    "\n",
    "Rather than computing a covariance matrix, please take the following approach.  Hold one parameter, either eccentricity or period, fixed, and optimize all of the other parameters (all but one).  Do this at a bunch of eccentricities, so that you can make a plot of $\\chi^2$ as a function of eccentricity from $e=0.3$ to $e=0.95$.  Use this plot to estimate a $1\\sigma$ confidence interval ($\\chi^2 < \\chi^2_{\\rm min} + 1$ if everything is Gaussian).  \n",
    "\n",
    "Next, make a plot of $\\chi^2$ as a function of period from a period of 2 years to a period of 20 years.  What confidence interval would you place on the period?  \n",
    "\n",
    "If you have the time and motivation, also make a plot of the best-fit eccentricity as a function of period.  You might notice that there are some well-fitting orbits at very high eccentricity.  Is there any reason to distrust such orbits?\n",
    "\n",
    "Think about how your results above might, or might not, be reflected in Gaia's data release."
   ]
  },
  {
   "cell_type": "code",
   "execution_count": null,
   "id": "26efe954",
   "metadata": {
    "id": "26efe954"
   },
   "outputs": [],
   "source": []
  },
  {
   "cell_type": "markdown",
   "id": "9e3a3503",
   "metadata": {
    "id": "9e3a3503"
   },
   "source": [
    "### Finally, derive the mass of the companion.\n",
    "\n",
    "To derive the mass, you'll need to do some arithmetic with the Thiele-Innes constants within the optimization.  We define these as\n",
    "\n",
    "$A = {\\rm sma} \\cdot (\\cos \\Omega \\cos \\omega - \\sin \\Omega \\sin \\omega \\cos i)$\n",
    "\n",
    "$B = {\\rm sma} \\cdot (\\sin \\Omega \\cos \\omega + \\cos \\Omega \\sin \\omega \\cos i)$\n",
    "\n",
    "$F = {\\rm sma} \\cdot (-\\cos \\Omega \\sin \\omega - \\sin \\Omega \\cos \\omega \\cos i)$\n",
    "\n",
    "$G = {\\rm sma} \\cdot (-\\sin \\Omega \\sin \\omega + \\cos \\Omega \\cos \\omega \\cos i)$\n",
    "\n",
    "where sma is the semimajor axis in units of arcseconds (you can look up the details in a celestial mechanics book).  With the helper variables\n",
    "\n",
    "$u = \\frac{1}{2} (A^2 + B^2 + F^2 + G^2)$\n",
    "\n",
    "$v = BF - AG$\n",
    "\n",
    "you can get the semimajor axis (in units of arcseconds) by\n",
    "\n",
    "${\\rm sma} = \\sqrt{u + \\sqrt{u^2 - v^2}}$\n",
    "\n",
    "To convert to AU you can divide by the parallax, which is one of the parameters you are deriving.  You can then use this semimajor axis, which refers to the orbit of the primary about the barycenter (a fraction $M_{\\rm sec}/M_{\\rm tot}$ of the total semimajor axis), to derive a companion mass.  You'll need the mass of the primary star; you can take it to be 1.17$\\,M_\\odot$.  You might also find Kepler's Third Law useful: $T^2 = a^3/M_{\\rm tot}$, with $T$ in years, $a$ in AU, and $M$ in Solar masses.\n",
    "\n",
    "Using your results here, together with what you found for period and eccentricity, what sort of constraints can you place on the companion mass?"
   ]
  },
  {
   "cell_type": "code",
   "execution_count": null,
   "id": "7e594e57",
   "metadata": {
    "id": "7e594e57"
   },
   "outputs": [],
   "source": []
  }
 ],
 "metadata": {
  "colab": {
   "collapsed_sections": [],
   "name": "SSW2022_Orbit_Fit_Tutorial.ipynb",
   "provenance": [
    {
     "file_id": "1vvshVV00W5WSwZmtqhXp07NCv8PC-bje",
     "timestamp": 1657670192856
    }
   ],
   "toc_visible": true
  },
  "kernelspec": {
   "display_name": "Python 3",
   "language": "python",
   "name": "python3"
  },
  "language_info": {
   "codemirror_mode": {
    "name": "ipython",
    "version": 3
   },
   "file_extension": ".py",
   "mimetype": "text/x-python",
   "name": "python",
   "nbconvert_exporter": "python",
   "pygments_lexer": "ipython3",
   "version": "3.8.8"
  }
 },
 "nbformat": 4,
 "nbformat_minor": 5
}
