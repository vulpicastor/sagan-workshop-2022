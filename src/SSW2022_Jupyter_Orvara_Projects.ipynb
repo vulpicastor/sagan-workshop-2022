{
 "cells": [
  {
   "cell_type": "markdown",
   "metadata": {
    "id": "n-NkqpLIp2Su"
   },
   "source": [
    "#  Sagan Summer Workshop 2022 $orvara$ projects"
   ]
  },
  {
   "cell_type": "markdown",
   "metadata": {
    "id": "UplhpPPYp2Sz"
   },
   "source": [
    "## Setup  check\n",
    "\n",
    "$orvara$ is already installed\n",
    "\n",
    "## Download Data sets for Projects\n",
    "\n",
    "### RV and Astrometry Data\n",
    "\n",
    "https://catcopy.ipac.caltech.edu/ssw/hands-on/RV_astrometry.zip\n",
    " \n",
    "OR\n",
    "\n",
    "https://catcopy.ipac.caltech.edu/ssw/hands-on/RV_astrometry.tar.gz\n",
    "\n",
    "\n",
    "Copy RV_astrometry files to orvara/tests/data\n",
    "\n",
    "\n",
    "\n",
    "### Hipparcos Data\n",
    "\n",
    "https://catcopy.ipac.caltech.edu/ssw/hands-on/Hipparcos_Gaia_Data.zip\n",
    "\n",
    "OR\n",
    "\n",
    "https://catcopy.ipac.caltech.edu/ssw/hands-on/Hipparcos_Gaia_Data.tar.gz\n",
    "\n",
    "Copy Hipparcos_Gaia_Data/gaia files to orvara/tests/data/gaia\n",
    "\n",
    "Copy Hipparcos_Gaia_Data/hip1 files to orvara/tests/data/hip1\n",
    "\n",
    "Copy Hipparcos_Gaia_Data/hip21 files to orvara/tests/data/hip2"
   ]
  },
  {
   "cell_type": "markdown",
   "metadata": {
    "id": "w3ofJ4KOp2S1"
   },
   "source": [
    "### Run pytest to make sure that the tests pass"
   ]
  },
  {
   "cell_type": "code",
   "execution_count": null,
   "metadata": {
    "id": "WMSxQZF-p2S2"
   },
   "outputs": [],
   "source": [
    "!pytest -sv -m \"not e2e\""
   ]
  },
  {
   "cell_type": "markdown",
   "metadata": {
    "id": "lW0SkalCp2S5"
   },
   "source": [
    "## Running the Orbit Fit "
   ]
  },
  {
   "cell_type": "markdown",
   "metadata": {
    "id": "Oy6TKNqtmEFx"
   },
   "source": [
    "Choose which system you would like to fit  (see [SSW2022_Orvara_Hands-On_Documentation.pdf](https://catcopy.ipac.caltech.edu/ssw/hands-on/SSW2022_Orvara_Hands-On_Documentation.pdf)).  \n",
    "\n",
    "By using one of the files in orvara/tests as an example, setup a config.ini file for your system.  You can edit it on your computer and then upload to your Google Drive.  Click on the orange folder icon on the left and then right click on the three vertical dots on a folder to upload.\n",
    "\n",
    "Make sure you set the correct fie names for the RV and/or astrometry data, and make sure the Gaia and Hipparcos paths are as follows:\n",
    "\n",
    "```\n",
    "GaiaDataDir = orvara/tests/data/gaia\n",
    "Hip1DataDir = orvara/tests/data/hip1\n",
    "Hip2DataDir = orvara/tests/data/hip2\n",
    "```\n",
    "\n",
    "\n"
   ]
  },
  {
   "cell_type": "markdown",
   "metadata": {
    "id": "koc-rCrbp2S-"
   },
   "source": [
    "## Now, let's run fit_orbit and plot_orbit commands in the root directory"
   ]
  },
  {
   "cell_type": "markdown",
   "metadata": {
    "id": "Z6O5pWWtp2S_"
   },
   "source": [
    "Verify that the RV data, relative astrometry data and absolute astrometry data are loaded in correctly to ensure a suceesful fit. Progress bar shows the progress of MCMC. **(Note in Google Colab, this can take a minimum of 13 minutes to run.)**"
   ]
  },
  {
   "cell_type": "code",
   "execution_count": null,
   "metadata": {
    "id": "_Ht6HPP0p2S_"
   },
   "outputs": [],
   "source": [
    "# Note in Google Colab, this can take a minimum of 13 minutes to run\n",
    "!fit_orbit --output-dir orvara/tests/chains orvara/tests/config_YOUR-STAR-NAME.ini"
   ]
  },
  {
   "cell_type": "markdown",
   "metadata": {
    "id": "KNspM6tvp2S_"
   },
   "source": [
    "Once you have the MCMC chain output by fit_orbit, feed it to McmcDataFile= in the config file. You can set a burn-in phase for the chain. After that, you are ready to go on to plot the orbits. plot_orbit will generate a suite of 7 plots relavant to RV and Astrometry, and a plot of the MCMC chain to breifly check convergence, and two files containting the beststep and posterior parameters. "
   ]
  },
  {
   "cell_type": "code",
   "execution_count": null,
   "metadata": {
    "id": "p96lpCcjp2TA"
   },
   "outputs": [],
   "source": [
    "!plot_orbit --output-dir orvara/tests/plots/ orvara/tests/config_YOUR-STAR-NAME.ini"
   ]
  },
  {
   "cell_type": "markdown",
   "metadata": {
    "id": "ZN0keeUAp2TA"
   },
   "source": [
    "## Great! Your plots are generated in the default or specified output directory."
   ]
  },
  {
   "cell_type": "markdown",
   "metadata": {
    "id": "JYYg2naTp2TA"
   },
   "source": [
    "You can see the whole sets of plots in the output directory."
   ]
  },
  {
   "cell_type": "code",
   "execution_count": null,
   "metadata": {
    "id": "MrgWLxtLp2TA"
   },
   "outputs": [],
   "source": [
    "!ls orvara/tests/plots/"
   ]
  },
  {
   "cell_type": "markdown",
   "metadata": {
    "id": "xStFosukp2TB"
   },
   "source": [
    "## For instance, here is the visual orbit."
   ]
  },
  {
   "cell_type": "code",
   "execution_count": null,
   "metadata": {
    "id": "h71ahpdDp2TB"
   },
   "outputs": [],
   "source": [
    "from IPython.display import HTML\n",
    "HTML('<iframe src=./orvara/tests/plots/astrometric_orbit_YOUR-STAR-NAME.pdf width=700 height=350></iframe>')"
   ]
  },
  {
   "cell_type": "markdown",
   "metadata": {
    "id": "U9HXqj30p2TB"
   },
   "source": [
    "## We can also inspect the posteriors and chisquareds from the fit:"
   ]
  },
  {
   "cell_type": "code",
   "execution_count": null,
   "metadata": {
    "id": "VyEoDNsTp2TC"
   },
   "outputs": [],
   "source": [
    "print('Here are the chisquared values of the model with respect to the data (for all the input data types):')\n",
    "display_file('orvara/tests/plots/beststep_params_YOUR-STAR-NAME.txt')"
   ]
  },
  {
   "cell_type": "code",
   "execution_count": null,
   "metadata": {
    "id": "fp00v-yep2TC"
   },
   "outputs": [],
   "source": [
    "print('Here are the posteriors with +- 1 sigma confidence intervals:')\n",
    "display_file('orvara/tests/plots/posterior_params_YOUR-STAR-NAME.txt')"
   ]
  }
 ],
 "metadata": {
  "colab": {
   "collapsed_sections": [],
   "name": "SSW2022_Colab_Orvara_Projects.ipynb",
   "provenance": [],
   "toc_visible": true
  },
  "gpuClass": "standard",
  "kernelspec": {
   "display_name": "Python 3",
   "language": "python",
   "name": "python3"
  },
  "language_info": {
   "codemirror_mode": {
    "name": "ipython",
    "version": 3
   },
   "file_extension": ".py",
   "mimetype": "text/x-python",
   "name": "python",
   "nbconvert_exporter": "python",
   "pygments_lexer": "ipython3",
   "version": "3.8.8"
  }
 },
 "nbformat": 4,
 "nbformat_minor": 1
}
