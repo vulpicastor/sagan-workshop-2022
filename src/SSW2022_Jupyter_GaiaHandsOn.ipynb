{
 "cells": [
  {
   "cell_type": "markdown",
   "metadata": {
    "id": "I1cSK-wZP9ri"
   },
   "source": [
    "# Tutorial on cross-matching Gaia DR3 and the NASA exoplanet archive\n",
    "\n",
    "## Author: Anthony Brown (Leiden Observatory)\n",
    "\n",
    "## __Before you start (if not already done)__\n",
    "A number of the exercises below require you to be registered as a user of the Gaia archive. If you plan on requesting data from the Gaia archive regularly this is in any case a good idea. The registration easy and quick (and free) and offers the following facilities:\n",
    "\n",
    "* 20 GB of space to store query results\n",
    "* the option to create and share your own tables ('user tables'),\n",
    "* longer timeout for large or complex query jobs.\n",
    "\n",
    "You can register [here](https://www.cosmos.esa.int/web/gaia-users/register)."
   ]
  },
  {
   "cell_type": "markdown",
   "metadata": {
    "id": "xjI1DBxaPue7"
   },
   "source": [
    "## First install required Python packages\n",
    "\n",
    "We need the `astroquery` package to access the tools for programmatic access to the Gaia archive. For more information and examples see:\n",
    "* [astroquery documentation](https://astroquery.readthedocs.io/en/latest/gaia/gaia.html)\n",
    "* [Gaia archive python tutorial](https://www.cosmos.esa.int/web/gaia-users/archive/use-cases#ClusterAnalysisPythonTutorial)\n"
   ]
  },
  {
   "cell_type": "markdown",
   "metadata": {
    "id": "vstnWdUMQoNf"
   },
   "source": [
    "## Python imports"
   ]
  },
  {
   "cell_type": "code",
   "execution_count": null,
   "metadata": {
    "id": "-pORBILzQnCY"
   },
   "outputs": [],
   "source": [
    "import numpy as np\n",
    "import matplotlib.pyplot as plt\n",
    "from matplotlib import rc\n",
    "\n",
    "from astroquery.gaia import Gaia\n",
    "from astroquery.ipac.nexsci.nasa_exoplanet_archive import NasaExoplanetArchive\n",
    "\n",
    "from astropy.table import Table\n",
    "\n",
    "from itertools import chain"
   ]
  },
  {
   "cell_type": "markdown",
   "metadata": {
    "id": "VktmUM1_jvsc"
   },
   "source": [
    "## Matplotlib settings"
   ]
  },
  {
   "cell_type": "code",
   "execution_count": null,
   "metadata": {
    "id": "ibx7vlujj2-7"
   },
   "outputs": [],
   "source": [
    "linewidths = 2\n",
    "axislinewidths = 2\n",
    "lenticks = 6\n",
    "\n",
    "rc('font', family='sans-serif', size=18)\n",
    "rc('xtick.major', size=lenticks)\n",
    "rc('xtick.minor', size=lenticks * 2 / 3)\n",
    "rc('ytick.major', size=lenticks)\n",
    "rc('ytick.minor', size=lenticks * 2 / 3)\n",
    "rc('lines', linewidth=linewidths)\n",
    "rc('axes', linewidth=axislinewidths)"
   ]
  },
  {
   "cell_type": "markdown",
   "metadata": {
    "id": "mPCJFbUeTK_I"
   },
   "source": [
    "## Find Gaia DR3 tables in the Gaia archive\n",
    "We start by generating an overview of the Gaia DR3 tables available from the [ESA Gaia archive](https://gea.esac.esa.int/archive/)."
   ]
  },
  {
   "cell_type": "code",
   "execution_count": null,
   "metadata": {
    "id": "QlcOOYbyRiZY"
   },
   "outputs": [],
   "source": [
    "tables = Gaia.load_tables(only_names=True)\n",
    "for table in (tables):\n",
    "    if 'gaiadr3' in table.get_qualified_name():\n",
    "        print (table.get_qualified_name())"
   ]
  },
  {
   "cell_type": "markdown",
   "metadata": {
    "id": "-eQ2QVymTRvg"
   },
   "source": [
    "## A first query on the Gaia Catalogue of Nearby Stars (GCNS)\n",
    "\n",
    "Request data for all GCNS sources within 20 pc and store the results in `gtable`.\n",
    "\n",
    "__Note:__ The GCNS table lives in `external.gaiaedr3_gcns_main_1` in the Gaia archive."
   ]
  },
  {
   "cell_type": "code",
   "execution_count": null,
   "metadata": {
    "id": "3ZjhXQW7SHdf"
   },
   "outputs": [],
   "source": [
    "job = Gaia.launch_job_async(\"SELECT source_id, ra, dec, parallax, phot_g_mean_mag, phot_bp_mean_mag, phot_rp_mean_mag \\\n",
    "FROM  external.gaiaedr3_gcns_main_1 \\\n",
    "WHERE parallax>50\")\n",
    "\n",
    "gtable = job.get_results()"
   ]
  },
  {
   "cell_type": "code",
   "execution_count": null,
   "metadata": {
    "id": "HWx2IOjoZKez"
   },
   "outputs": [],
   "source": [
    "print(gtable.info)"
   ]
  },
  {
   "cell_type": "markdown",
   "metadata": {
    "id": "XwaDdhQtaKPL"
   },
   "source": [
    "We see that the query results in 2575 sources of which a few do not have G-band photometry or (BP-RP) colours available. The next code block makes a colour magnitude diagram from the data in the table."
   ]
  },
  {
   "cell_type": "code",
   "execution_count": null,
   "metadata": {
    "id": "4Hhxm_4aAb6s"
   },
   "outputs": [],
   "source": [
    "bp_rp = gtable['phot_bp_mean_mag']-gtable['phot_rp_mean_mag']\n",
    "\n",
    "fig, axcmd = plt.subplots(1, 1, figsize=(7, 7))\n",
    "\n",
    "axcmd.hexbin(bp_rp, gtable['phot_g_mean_mag'], bins='log', mincnt=1)\n",
    "axcmd.set_xlabel(r'$(G_\\mathrm{BP}-G_\\mathrm{RP})$')\n",
    "axcmd.set_ylabel(r'$G$')\n",
    "axcmd.invert_yaxis()\n",
    "\n",
    "plt.show()"
   ]
  },
  {
   "cell_type": "markdown",
   "metadata": {
    "id": "te2dJatq_eB0"
   },
   "source": [
    "## __QUESTION 1__\n",
    "Plot the observational Hertzsprung-Russell diagram for this sample of stars. You can modify the above example to plot absolute magnitude on the y-axis."
   ]
  },
  {
   "cell_type": "code",
   "execution_count": null,
   "metadata": {
    "id": "QrnfytN2_Cc3"
   },
   "outputs": [],
   "source": [
    "# Your plotting code here"
   ]
  },
  {
   "cell_type": "markdown",
   "metadata": {
    "id": "sGYwwfvDpeRU"
   },
   "source": [
    "## __QUESTION 2__\n",
    "Modify the above query so you can plot the observational HR diagram in the SDSS filter system (for example using the g and i bands).\n",
    "\n",
    "Hint: Look up in the [astroquery.gaia documentation](https://astroquery.readthedocs.io/en/latest/gaia/gaia.html) how you can inspect the contents of a specific table. You can find column names and descriptions. Alternatively, you can inspect the contents of `external.gaiaedr3_gcns_main_1\n",
    "` to find the relevant column names."
   ]
  },
  {
   "cell_type": "code",
   "execution_count": null,
   "metadata": {
    "id": "2HB4Dw0MqCp7"
   },
   "outputs": [],
   "source": [
    "# Code to inspect the table here"
   ]
  },
  {
   "cell_type": "code",
   "execution_count": null,
   "metadata": {
    "id": "V7HfLOkQxDcl"
   },
   "outputs": [],
   "source": [
    "# Code to select the SDSS photometry from the GCNS table."
   ]
  },
  {
   "cell_type": "code",
   "execution_count": null,
   "metadata": {
    "id": "21AooQtEwvBT"
   },
   "outputs": [],
   "source": [
    "# Code to plot the SDSS photometry version of the observational HRD"
   ]
  },
  {
   "cell_type": "markdown",
   "metadata": {
    "id": "6Loo4-ldfNHR"
   },
   "source": [
    "## Query the NASA Exoplanet Archive\n",
    "We are interested in combining the Gaia DR3 data with the data from the [NASA Exoplanet Archive](https://exoplanetarchive.ipac.caltech.edu/) in order to use the astrophysical properties the stars in Gaia DR3 to improve the characterisation of exoplanets.\n",
    "\n",
    "We first inspect the Exoplanet Archive contents using the `astroquery` [tools for the Exoplanet Archive](https://astroquery.readthedocs.io/en/latest/ipac/nexsci/nasa_exoplanet_archive.html). We query the 'Planetary systems composite data' table. The various columns asked for in the query are needed in the following exercises."
   ]
  },
  {
   "cell_type": "code",
   "execution_count": null,
   "metadata": {
    "id": "51Dz5C45fQkQ"
   },
   "outputs": [],
   "source": [
    "exocolumns = ['pl_name', 'hostname', 'ra', 'dec', 'sy_gaiamag', 'st_teff', 'st_logg', 'st_met', 'st_lum', 'st_rad', 'st_age']\n",
    "select_string = \", \".join(exocolumns)\n",
    "exotable = Table(NasaExoplanetArchive.query_criteria(table=\"pscomppars\", select=select_string))"
   ]
  },
  {
   "cell_type": "code",
   "execution_count": null,
   "metadata": {
    "id": "Suh_fhV0g-Mp"
   },
   "outputs": [],
   "source": [
    "exotable.pprint()"
   ]
  },
  {
   "cell_type": "markdown",
   "metadata": {
    "id": "TXMWimow6Etz"
   },
   "source": [
    "## Cross-matching the Exoplanet Archive to Gaia DR3\n",
    "We will use a positional cross-match on the source coordinates to do the cross-match between the exoplanet host stars in the Exoplanet Archive and Gaia DR3.\n",
    "\n",
    "### __Login to the Gaia archive first__\n",
    "\n",
    "For this exercise you must be logged in to the Gaia archive. The form in the next code cell asks for you archive user name. This is also needed further down.\n",
    "\n",
    "*Your might be automatically logged out after a while. Just re-run this cell to login again.*"
   ]
  },
  {
   "cell_type": "code",
   "execution_count": null,
   "metadata": {
    "id": "jz3Q1Ypx8-Vc"
   },
   "outputs": [],
   "source": [
    "#Provide your Gaia archive user name - change 'your_username' to your Gaia login\n",
    "username = 'your_username'\n",
    "\n",
    "Gaia.login(user = username)"
   ]
  },
  {
   "cell_type": "markdown",
   "metadata": {
    "id": "5iN_kx_H88Tx"
   },
   "source": [
    "\n",
    "### Cleaning up to avoid archive errors\n",
    "\n",
    "*You can skip this step if you have yet not created any tables.*\n",
    "\n",
    "As part of the exercise you will be uploading and generating user tables in the Gaia archive. To avoid errors due to tables already existing (in case you need to restart the exercise) you can execute the following code block\n",
    "which removes tables that are generated during one of the exercises below. If the tables were already deleted you will get an error message.\n",
    "\n"
   ]
  },
  {
   "cell_type": "code",
   "execution_count": null,
   "metadata": {
    "id": "Yp1uorEuIhjL"
   },
   "outputs": [],
   "source": [
    "Gaia.delete_user_table('exoplanet_archive')\n",
    "Gaia.delete_user_table('exoplanets_gaia')\n",
    "Gaia.delete_user_table('exo_gaia_best')"
   ]
  },
  {
   "cell_type": "markdown",
   "metadata": {
    "id": "Xz76rbODDUuM"
   },
   "source": [
    "You can also delete the tables through the Gaia archive [web interface](https://gea.esac.esa.int/archive/) (after signing in). To delete a table in the archive, look the table up in your \"User Tables\" section in the menu to the left of the screen (see image below) and then check the table(s) to delete and click on the \"delete\" icon\n",
    "(highlighted in the image).\n",
    "\n",
    "<img src=\"https://catcopy.ipac.caltech.edu/ssw/hands-on/Gaia_login.png\"></img>"
   ]
  },
  {
   "cell_type": "markdown",
   "metadata": {
    "id": "kblQZlVmINu9"
   },
   "source": [
    "### Cross-match steps\n",
    "\n",
    "### Step 1\n",
    "We upload the table obtained from the Exoplanet Archive to the Gaia archive. When uploading we omit the 'sky_coord' column as this cannot be ingested automatically and is not needed."
   ]
  },
  {
   "cell_type": "code",
   "execution_count": null,
   "metadata": {
    "id": "Lj3BZOIw6uaU"
   },
   "outputs": [],
   "source": [
    "Gaia.upload_table(upload_resource=exotable[exocolumns], table_name='exoplanet_archive')"
   ]
  },
  {
   "cell_type": "markdown",
   "metadata": {
    "id": "_MiAuw_pL0Ms"
   },
   "source": [
    "### Step 2\n",
    "We do a positional cross-match with the query in the code below. We use a search radius of 1 arcsec to look for Gaia sources matching the planet host star.\n",
    "\n",
    "__NOTE 1__ The full name of the table we just uploaded will be `user_<your_username>.exoplanet_archive`. The first line of code takes care of this.\n",
    "\n",
    "__NOTE 2__ We have to mark the 'ra' and 'dec' columns in the Gaia archive as the columns containing the sky coordinates, otherwise the cross-match will not work."
   ]
  },
  {
   "cell_type": "code",
   "execution_count": null,
   "metadata": {
    "id": "Jh5kAPjUMADD"
   },
   "outputs": [],
   "source": [
    "# Construct the correct table name\n",
    "full_qualified_table_name = 'user_' + username + '.exoplanet_archive'\n",
    "xmatch_table_name = 'exoplanets_gaia'\n",
    "search_radius = 1.0\n",
    "\n",
    "# Mark the ra and dec columns as containing the sky coordinates\n",
    "Gaia.update_user_table(table_name=full_qualified_table_name, \n",
    "                       list_of_changes=[[\"ra\",\"flags\",\"Ra\"], [\"dec\",\"flags\",\"Dec\"]])\n",
    "\n",
    "# Run the cross-match between our user table and the gaiadr3.gaia_source table\n",
    "Gaia.cross_match(full_qualified_table_name_a=full_qualified_table_name,\n",
    "                 full_qualified_table_name_b='gaiadr3.gaia_source',\n",
    "                 results_table_name=xmatch_table_name, radius=search_radius)"
   ]
  },
  {
   "cell_type": "markdown",
   "metadata": {
    "id": "Twa0h94MTEtM"
   },
   "source": [
    "### Step 3\n",
    "The query above generated a table in the archive called `user_<your_username>.exoplanets_gaia`. It contains only three columns\n",
    "* `exoplanet_archive_exoplanet_archive_oid`\n",
    "* `gaia_source_source_id`\n",
    "* `separation`\n",
    "\n",
    "We can use this data to construct the table with the Gaia DR3 data we would like to have for the exoplanet host stars. The next code block creates the query which requests a subset of the `gaiadr3.gaia_source` data. We will get to retrieving the Gaia DR3 astrophysical parameters for the exoplanets hosts in a subsequent exercise.\n",
    "\n",
    "*You can ignore the warnings about \"Unit not supported\".*"
   ]
  },
  {
   "cell_type": "code",
   "execution_count": null,
   "metadata": {
    "id": "NGdLme_RT_Fs"
   },
   "outputs": [],
   "source": [
    "xmatch_table = 'user_' + username + '.' + xmatch_table_name\n",
    "gaia_columns = ['source_id', 'ra', 'dec', 'parallax', 'parallax_over_Error', 'phot_g_mean_mag', \n",
    "                'phot_bp_mean_mag', 'phot_rp_mean_mag', 'ag_gspphot', 'ebpminrp_gspphot', 'distance_gspphot']\n",
    "gaia_columns_for_query = []\n",
    "for name in gaia_columns:\n",
    "    gaia_columns_for_query.append('gaia.'+name)\n",
    "gaia_select = \", \".join(gaia_columns_for_query)\n",
    "\n",
    "query = 'SELECT xm.\"separation\"*3600 as sep, ' + gaia_select + ', exopl.* FROM gaiadr3.gaia_source AS gaia, ' + \\\n",
    "full_qualified_table_name + ' AS exopl, ' + xmatch_table + ' AS xm ' + \\\n",
    "'WHERE (xm.gaia_source_source_id = gaia.source_id AND exoplanet_archive_exoplanet_archive_oid = exopl.exoplanet_archive_oid)'\n",
    "\n",
    "job = Gaia.launch_job_async(query=query, name='exoplanet_archive_dr3')\n",
    "\n",
    "exo_gaia_table = job.get_results()"
   ]
  },
  {
   "cell_type": "code",
   "execution_count": null,
   "metadata": {
    "id": "v8H6zV3IW331"
   },
   "outputs": [],
   "source": [
    "print(f\"Number of matches found for search radius {search_radius:.1f} arcsec: {exo_gaia_table['sep'].size}\")"
   ]
  },
  {
   "cell_type": "markdown",
   "metadata": {
    "id": "nEvZ-LEcdLkk"
   },
   "source": [
    "## __QUESTION 3__\n",
    "We now have a table with all the Gaia DR3 data for the host stars from the Exoplanet Archive. Not all host stars have a match in Gaia DR3 and how do we known the matches found are correct? Are all host stars uniquely matched to a Gaia source?\n",
    "\n",
    "__3.1__ Come up with a basic check of the cross-matches. Think about plots you could make to spot any matches that might be dubious.\n",
    "\n",
    "__3.2__ Identify exoplanets matched to more than one Gaia DR3 source.\n",
    "\n",
    "__3.3__ Use the result from 3.2 to decide on a criterion for identifying bad matches. Find a way to filter these out of the created table and then make a table with only the best matches called `exo_gaia_best`.\n",
    "\n",
    "__HINT__ For question 3.1 consider what criterion other than the proximity of two sources would convince you that the match is correct. \n",
    "\n",
    "__HINT__ For questions 3.2 and 3.3 Python's [list facilities](https://docs.python.org/3/tutorial/introduction.html#lists), see also the tutorial on [data structures](https://docs.python.org/3/tutorial/datastructures.html), and the [`itertools`](https://docs.python.org/3/library/itertools.html?highlight=itertools) package are useful. See if you can find a way to create a list of exoplanet names which occur more than once, and then find a way to list the `exo_gaia_table` rows that correspond to these multiple entries."
   ]
  },
  {
   "cell_type": "code",
   "execution_count": null,
   "metadata": {
    "id": "Kbcu_p_ddyDM"
   },
   "outputs": [],
   "source": [
    "# Code for question 3.1"
   ]
  },
  {
   "cell_type": "code",
   "execution_count": null,
   "metadata": {
    "id": "kj95wkcXiLpc"
   },
   "outputs": [],
   "source": [
    "# Code for question 3.2\n",
    "# This is somewhat tricky so don't hesitate to ask for more hints!"
   ]
  },
  {
   "cell_type": "code",
   "execution_count": null,
   "metadata": {
    "id": "YcdZn6GuoR4t"
   },
   "outputs": [],
   "source": [
    "# Code for question 3.3"
   ]
  },
  {
   "cell_type": "markdown",
   "metadata": {
    "id": "9OZcvuvccYM8"
   },
   "source": [
    "## __QUESTION 4__\n",
    "Plot the Gaia observational HR diagram for the exoplanet hosts stars, corrected for the effects of extinction.\n",
    "\n",
    "__4.1__ Make two plots, one using the parallaxes to calculate $M_{G,0}$ and the other using Gaia DR3 distances.\n",
    "\n",
    "__4.2__ What might be the cause of the differences you see? Create a plot to investigate this.\n",
    "\n",
    "*NOTE: not all stars have a distance estimate in Gaia DR3.*"
   ]
  },
  {
   "cell_type": "code",
   "execution_count": null,
   "metadata": {
    "id": "vxB3eHS6wzHl"
   },
   "outputs": [],
   "source": [
    "# Code for question 4.1"
   ]
  },
  {
   "cell_type": "code",
   "execution_count": null,
   "metadata": {
    "id": "3lp3B-Tu7znm"
   },
   "outputs": [],
   "source": [
    "# Code for question 4.2"
   ]
  },
  {
   "cell_type": "markdown",
   "metadata": {
    "id": "kL9xwEvXCX2F"
   },
   "source": [
    "## Extracting astrophysical parameters from Gaia DR3\n",
    "The main `gaiadr3.gaia_source` table in the archive does contain astrophysical parameters but here we will use the `gaiadr3.astrophysical_parameters` table to extract more information than available from `gaia_source`. We focus here on the parameters determined with the 'GSP-Phot' module of the Gaia/DPAC processing pipelines. These are listed as `*_gspphot`.\n",
    "\n",
    "This is done by creating a user table from our exoplanet-Gaia table using only the best matches with a distance listed in Gaia DR3 (if there is no distance listed there are also no`*_gspphot` astrophysical parameters available).\n",
    "\n",
    "*You can ignore the warnings about Invalid unit strings.*\n",
    "\n",
    "__NOTE__ In the code below assumes you have already created the `exo_gaia_best` table."
   ]
  },
  {
   "cell_type": "code",
   "execution_count": null,
   "metadata": {
    "id": "672rz2uwDGo9"
   },
   "outputs": [],
   "source": [
    "exo_gaia_best_dist = exo_gaia_best[exo_gaia_best['distance_gspphot']>0]\n",
    "\n",
    "Gaia.upload_table(upload_resource=exo_gaia_best_dist, table_name='exo_gaia_best')"
   ]
  },
  {
   "cell_type": "markdown",
   "metadata": {
    "id": "4lS5pHSY94Gm"
   },
   "source": [
    "Now that the table is uploaded to the archive we can run a query to extract the astrophysical parameters of the host stars. This is done through a 'join' between our user table and the `astrophysical_parameters` table."
   ]
  },
  {
   "cell_type": "code",
   "execution_count": null,
   "metadata": {
    "id": "841GT3NxHOs_"
   },
   "outputs": [],
   "source": [
    "exo_table_name = 'user_' + username + '.exo_gaia_best'\n",
    "ap_columns = ['teff_gspphot', 'logg_gspphot', 'mh_gspphot', 'radius_flame', 'lum_flame', 'mass_flame', 'age_flame']\n",
    "ap_columns_for_query = []\n",
    "for name in ap_columns:\n",
    "    ap_columns_for_query.append('aps.'+name)\n",
    "ap_select = \", \".join(ap_columns_for_query)\n",
    "\n",
    "query = 'select exo.*, ' + ap_select + ' from ' + exo_table_name + \\\n",
    "' as exo join gaiadr3.astrophysical_parameters as aps using (source_id)'\n",
    "\n",
    "job = Gaia.launch_job_async(query=query, name='exoplanets_dr3_aps')\n",
    "\n",
    "exo_dr3_aps = job.get_results()"
   ]
  },
  {
   "cell_type": "code",
   "execution_count": null,
   "metadata": {
    "id": "5VV6qfqSJiq-"
   },
   "outputs": [],
   "source": [
    "print(exo_dr3_aps.info)"
   ]
  },
  {
   "cell_type": "markdown",
   "metadata": {
    "id": "1G63M-ciOAC1"
   },
   "source": [
    "The resulting table contains the data for 4292 exoplanet host stars, where not all Gaia DR3 astrophysical parameters are available for all stars.\n",
    "\n",
    "## __QUESTION 5__\n",
    "Gaia DR3 also contains a table with a sample of FGKM stars with very well determined astrophysical parameters. The sample is described in the paper [Gaia Data Release 3: A Golden Sample of Astrophysical Parameters by Gaia Collboration, Creevey et al. (2022)](https://arxiv.org/pdf/2206.05870.pdf).\n",
    "\n",
    "Modify the above query to extract the astrophysical parameters for the exoplanet host stars in the FGKM golden sample (selecting all columns in the table is fine).\n",
    "\n",
    "__HINT__ The table with the FGKM golden sample can be found in the `performance verification` section of the Gaia data release 3 tables (see archive web interface) and the table already contains the relevant astrophysical parameters."
   ]
  },
  {
   "cell_type": "code",
   "execution_count": null,
   "metadata": {
    "id": "QvDWTRyWrU5S"
   },
   "outputs": [],
   "source": [
    "# Code for question 5"
   ]
  },
  {
   "cell_type": "markdown",
   "metadata": {
    "id": "P6hR1uu3PR9u"
   },
   "source": [
    "## __Challenge for the rest of the week__\n",
    "\n",
    "You now have all the data in hand to do the following as an extra challenge during the remainder of the workshop.\n",
    "\n",
    "1. How do the exoplanet host star astrophysical parameters from the NASA Exoplanet Archive and Gaia DR3 compare?\n",
    "2. Can you recalculate the planetary radii using the new Gaia DR3 astrophysical data?\n",
    "3. What changes can you see in the planet population properties when using the Gaia DR3 data?\n",
    "4. We did not match all 5044 planets in the table created from the Exoplanet Archive. Perhaps our search radius was to strict. You can repeat exercise 3 with a larger search radius to see if you can recover more matches of planet host stars to Gaia DR3."
   ]
  }
 ],
 "metadata": {
  "colab": {
   "collapsed_sections": [],
   "name": "SSW2022_Colab_GaiaHandsOn.ipynb",
   "provenance": [],
   "toc_visible": true
  },
  "kernelspec": {
   "display_name": "Python 3",
   "language": "python",
   "name": "python3"
  },
  "language_info": {
   "codemirror_mode": {
    "name": "ipython",
    "version": 3
   },
   "file_extension": ".py",
   "mimetype": "text/x-python",
   "name": "python",
   "nbconvert_exporter": "python",
   "pygments_lexer": "ipython3",
   "version": "3.8.8"
  }
 },
 "nbformat": 4,
 "nbformat_minor": 1
}
